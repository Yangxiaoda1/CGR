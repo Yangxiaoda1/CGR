{
 "cells": [
  {
   "cell_type": "code",
   "execution_count": 15,
   "metadata": {},
   "outputs": [],
   "source": [
    "# import sys\n",
    "# sys.path.append('/home/yangxiaoda/CGR')\n",
    "# from CSD.feature_encoder_test import ImageEncoder\n",
    "# import torch\n",
    "# model=ImageEncoder()\n",
    "\n",
    "# image1='/home/yangxiaoda/CGR/Test_pictures/abstract1.jpg'\n",
    "\n",
    "# features1=model.encode(image1)\n",
    "# print(features1[0][0])"
   ]
  },
  {
   "cell_type": "code",
   "execution_count": 1,
   "metadata": {},
   "outputs": [
    {
     "ename": "ModuleNotFoundError",
     "evalue": "No module named 'CSD.model'",
     "output_type": "error",
     "traceback": [
      "\u001b[0;31m---------------------------------------------------------------------------\u001b[0m",
      "\u001b[0;31mModuleNotFoundError\u001b[0m                       Traceback (most recent call last)",
      "Input \u001b[0;32mIn [1]\u001b[0m, in \u001b[0;36m<cell line: 3>\u001b[0;34m()\u001b[0m\n\u001b[1;32m      1\u001b[0m \u001b[38;5;28;01mimport\u001b[39;00m \u001b[38;5;21;01msys\u001b[39;00m\n\u001b[1;32m      2\u001b[0m sys\u001b[38;5;241m.\u001b[39mpath\u001b[38;5;241m.\u001b[39mappend(\u001b[38;5;124m'\u001b[39m\u001b[38;5;124m/home/yangxiaoda/CGR\u001b[39m\u001b[38;5;124m'\u001b[39m)\n\u001b[0;32m----> 3\u001b[0m \u001b[38;5;28;01mfrom\u001b[39;00m \u001b[38;5;21;01mCSD\u001b[39;00m\u001b[38;5;21;01m.\u001b[39;00m\u001b[38;5;21;01mfeature_encoder_test_csd\u001b[39;00m \u001b[38;5;28;01mimport\u001b[39;00m ImageEncoder\n\u001b[1;32m      4\u001b[0m \u001b[38;5;28;01mimport\u001b[39;00m \u001b[38;5;21;01mtorch\u001b[39;00m\n\u001b[1;32m      5\u001b[0m model\u001b[38;5;241m=\u001b[39mImageEncoder()\n",
      "File \u001b[0;32m/home/yangxiaoda/CGR/CSD/feature_encoder_test_csd.py:9\u001b[0m, in \u001b[0;36m<module>\u001b[0;34m\u001b[0m\n\u001b[1;32m      7\u001b[0m \u001b[38;5;28;01mfrom\u001b[39;00m \u001b[38;5;21;01mPIL\u001b[39;00m \u001b[38;5;28;01mimport\u001b[39;00m Image\n\u001b[1;32m      8\u001b[0m \u001b[38;5;28;01mfrom\u001b[39;00m \u001b[38;5;21;01mtorchvision\u001b[39;00m \u001b[38;5;28;01mimport\u001b[39;00m transforms\n\u001b[0;32m----> 9\u001b[0m \u001b[38;5;28;01mfrom\u001b[39;00m \u001b[38;5;21;01mCSD\u001b[39;00m\u001b[38;5;21;01m.\u001b[39;00m\u001b[38;5;21;01mmodel\u001b[39;00m \u001b[38;5;28;01mimport\u001b[39;00m CSD_CLIP\n\u001b[1;32m     10\u001b[0m \u001b[38;5;28;01mfrom\u001b[39;00m \u001b[38;5;21;01mCSD\u001b[39;00m\u001b[38;5;21;01m.\u001b[39;00m\u001b[38;5;21;01mutils\u001b[39;00m \u001b[38;5;28;01mimport\u001b[39;00m has_batchnorms, convert_state_dict, extract_features\n\u001b[1;32m     11\u001b[0m \u001b[38;5;28;01mfrom\u001b[39;00m \u001b[38;5;21;01mCSD\u001b[39;00m\u001b[38;5;21;01m.\u001b[39;00m\u001b[38;5;21;01mloss_utils\u001b[39;00m \u001b[38;5;28;01mimport\u001b[39;00m transforms_branch0\n",
      "\u001b[0;31mModuleNotFoundError\u001b[0m: No module named 'CSD.model'"
     ]
    }
   ],
   "source": [
    "import sys\n",
    "sys.path.append('/home/yangxiaoda/CGR')\n",
    "from CSD.feature_encoder_test_csd import ImageEncoder\n",
    "import torch\n",
    "model=ImageEncoder()\n",
    "\n",
    "image1='/home/yangxiaoda/CGR/Test_pictures/abstract1.jpg'\n",
    "image2='/home/yangxiaoda/CGR/Test_pictures/abstract2.jpg'\n",
    "image3='/home/yangxiaoda/CGR/Test_pictures/abstract3.jpg'\n",
    "image4='/home/yangxiaoda/CGR/Test_pictures/uk1.jpg'\n",
    "image5='/home/yangxiaoda/CGR/Test_pictures/uk2.jpg'\n",
    "image6='/home/yangxiaoda/CGR/Test_pictures/popart1.jpg'\n",
    "image7='/home/yangxiaoda/CGR/Test_pictures/popart2.jpg'\n",
    "\n",
    "features1=model.encode(image1)\n",
    "# print(features1[0][0])\n",
    "features2=model.encode(image2)\n",
    "features3=model.encode(image3)\n",
    "features4=model.encode(image4)\n",
    "features5=model.encode(image5)\n",
    "features6=model.encode(image6)\n",
    "features7=model.encode(image7)\n",
    "\n",
    "device=\"cuda\" if torch.cuda.is_available() else \"cpu\"\n",
    "\n",
    "features1=torch.tensor(features1,dtype=torch.float32).to(device)\n",
    "features2=torch.tensor(features2,dtype=torch.float32).to(device)\n",
    "features3=torch.tensor(features3,dtype=torch.float32).to(device)\n",
    "features4=torch.tensor(features4,dtype=torch.float32).to(device)\n",
    "features5=torch.tensor(features5,dtype=torch.float32).to(device)\n",
    "features6=torch.tensor(features6,dtype=torch.float32).to(device)\n",
    "features7=torch.tensor(features7,dtype=torch.float32).to(device)"
   ]
  },
  {
   "cell_type": "code",
   "execution_count": 20,
   "metadata": {},
   "outputs": [
    {
     "name": "stdout",
     "output_type": "stream",
     "text": [
      "torch.Size([7, 768])\n"
     ]
    }
   ],
   "source": [
    "featurestot=[]\n",
    "featurestot.append(features1)\n",
    "featurestot.append(features2)\n",
    "featurestot.append(features3)\n",
    "featurestot.append(features4)\n",
    "featurestot.append(features5)\n",
    "featurestot.append(features6)\n",
    "featurestot.append(features7)\n",
    "featurestot=torch.stack(featurestot).squeeze(1)\n",
    "\n",
    "print(featurestot.shape)"
   ]
  },
  {
   "cell_type": "code",
   "execution_count": 21,
   "metadata": {},
   "outputs": [
    {
     "name": "stdout",
     "output_type": "stream",
     "text": [
      "tensor([[1.0001, 0.6979, 0.6505, 0.5792, 0.4675, 0.5018, 0.5410]],\n",
      "       device='cuda:0')\n",
      "tensor([[0.6979, 0.9996, 0.5606, 0.4974, 0.3621, 0.4501, 0.6528]],\n",
      "       device='cuda:0')\n",
      "tensor([[0.6505, 0.5606, 1.0000, 0.6096, 0.4786, 0.5262, 0.4469]],\n",
      "       device='cuda:0')\n",
      "tensor([[0.5792, 0.4974, 0.6096, 1.0005, 0.7563, 0.5594, 0.4592]],\n",
      "       device='cuda:0')\n",
      "tensor([[0.4675, 0.3621, 0.4786, 0.7563, 1.0001, 0.4911, 0.3574]],\n",
      "       device='cuda:0')\n",
      "tensor([[0.5018, 0.4501, 0.5262, 0.5594, 0.4911, 1.0002, 0.4412]],\n",
      "       device='cuda:0')\n",
      "tensor([[0.5410, 0.6528, 0.4469, 0.4592, 0.3574, 0.4412, 1.0003]],\n",
      "       device='cuda:0')\n"
     ]
    }
   ],
   "source": [
    "import torch\n",
    "import torch.nn.functional as F\n",
    "\n",
    "# print(features1[0][0])\n",
    "# print(features1.shape)\n",
    "# features1=F.normalize(features1,p=2,dim=1)\n",
    "# print(features1[0][0])\n",
    "# print(features1.shape)\n",
    "# featurestot=F.normalize(featurestot,p=2,dim=1)\n",
    "\n",
    "\n",
    "similarity1=torch.mm(features1,featurestot.t())\n",
    "similarity2=torch.mm(features2,featurestot.t())\n",
    "similarity3=torch.mm(features3,featurestot.t())\n",
    "similarity4=torch.mm(features4,featurestot.t())\n",
    "similarity5=torch.mm(features5,featurestot.t())\n",
    "similarity6=torch.mm(features6,featurestot.t())\n",
    "similarity7=torch.mm(features7,featurestot.t())\n",
    "print(similarity1)\n",
    "print(similarity2)\n",
    "print(similarity3)\n",
    "print(similarity4)\n",
    "print(similarity5)\n",
    "print(similarity6)\n",
    "print(similarity7)"
   ]
  },
  {
   "cell_type": "markdown",
   "metadata": {},
   "source": []
  }
 ],
 "metadata": {
  "kernelspec": {
   "display_name": "Python 3",
   "language": "python",
   "name": "python3"
  },
  "language_info": {
   "codemirror_mode": {
    "name": "ipython",
    "version": 3
   },
   "file_extension": ".py",
   "mimetype": "text/x-python",
   "name": "python",
   "nbconvert_exporter": "python",
   "pygments_lexer": "ipython3",
   "version": "3.8.18"
  }
 },
 "nbformat": 4,
 "nbformat_minor": 2
}
